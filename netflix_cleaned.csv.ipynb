{
 "cells": [
  {
   "cell_type": "markdown",
   "id": "62ae7008",
   "metadata": {},
   "source": [
    "# Netflix Data Cleaning Task\n",
    "\n",
    "This notebook cleans and preprocesses the Netflix Movies and TV Shows dataset."
   ]
  },
  {
   "cell_type": "code",
   "execution_count": null,
   "id": "ea682e4f",
   "metadata": {},
   "outputs": [],
   "source": [
    "import pandas as pd\n",
    "\n",
    "# Load dataset\n",
    "df = pd.read_csv('netflix_titles.csv')\n",
    "df.head()"
   ]
  },
  {
   "cell_type": "code",
   "execution_count": null,
   "id": "9d1c05dc",
   "metadata": {},
   "outputs": [],
   "source": [
    "# Check for missing values\n",
    "df.isnull().sum()"
   ]
  },
  {
   "cell_type": "code",
   "execution_count": null,
   "id": "66baf72b",
   "metadata": {},
   "outputs": [],
   "source": [
    "# Drop duplicates\n",
    "df.drop_duplicates(inplace=True)"
   ]
  },
  {
   "cell_type": "code",
   "execution_count": null,
   "id": "99a96a33",
   "metadata": {},
   "outputs": [],
   "source": [
    "# Standardize text format\n",
    "df['country'] = df['country'].str.strip().str.title()\n",
    "df['rating'] = df['rating'].str.upper()\n",
    "df['type'] = df['type'].str.title()"
   ]
  },
  {
   "cell_type": "code",
   "execution_count": null,
   "id": "7b018cd3",
   "metadata": {},
   "outputs": [],
   "source": [
    "# Convert date_added to datetime\n",
    "df['date_added'] = pd.to_datetime(df['date_added'], errors='coerce')"
   ]
  },
  {
   "cell_type": "code",
   "execution_count": null,
   "id": "a6e8075f",
   "metadata": {},
   "outputs": [],
   "source": [
    "# Rename columns to lowercase with underscores\n",
    "df.columns = df.columns.str.strip().str.lower().str.replace(' ', '_')"
   ]
  },
  {
   "cell_type": "code",
   "execution_count": null,
   "id": "8cdfbb5d",
   "metadata": {},
   "outputs": [],
   "source": [
    "# Convert release_year to integer (nullable)\n",
    "df['release_year'] = df['release_year'].astype('Int64')"
   ]
  },
  {
   "cell_type": "code",
   "execution_count": null,
   "id": "58fffd24",
   "metadata": {},
   "outputs": [],
   "source": [
    "# Save cleaned dataset\n",
    "df.to_csv('netflix_titles_cleaned.csv', index=False)\n",
    "print(\"Cleaned dataset saved as 'netflix_titles_cleaned.csv'\")"
   ]
  }
 ],
 "metadata": {},
 "nbformat": 4,
 "nbformat_minor": 5
}
